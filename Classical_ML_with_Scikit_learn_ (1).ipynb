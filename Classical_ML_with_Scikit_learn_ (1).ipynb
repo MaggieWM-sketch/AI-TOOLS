{
  "nbformat": 4,
  "nbformat_minor": 0,
  "metadata": {
    "colab": {
      "provenance": []
    },
    "kernelspec": {
      "name": "python3",
      "display_name": "Python 3"
    },
    "language_info": {
      "name": "python"
    }
  },
  "cells": [
    {
      "cell_type": "code",
      "execution_count": null,
      "metadata": {
        "id": "1UCpIkyIegiK"
      },
      "outputs": [],
      "source": [
        "# Iris Species Classification using Decision Tree Classifier\n",
        "# This script demonstrates complete ML pipeline from data loading to model evaluation\n",
        "\n",
        "import pandas as pd\n",
        "import numpy as np\n",
        "from sklearn.datasets import load_iris\n",
        "from sklearn.model_selection import train_test_split\n",
        "from sklearn.tree import DecisionTreeClassifier\n",
        "from sklearn.metrics import accuracy_score, precision_score, recall_score, classification_report, confusion_matrix\n",
        "from sklearn.preprocessing import LabelEncoder\n",
        "import matplotlib.pyplot as plt\n",
        "import seaborn as sns"
      ]
    },
    {
      "cell_type": "code",
      "source": [
        "# Set random seed for reproducibility\n",
        "np.random.seed(42)\n",
        "\n",
        "print(\"=== IRIS SPECIES CLASSIFICATION USING DECISION TREE ===\\n\")\n"
      ],
      "metadata": {
        "colab": {
          "base_uri": "https://localhost:8080/"
        },
        "id": "QjD4EaJCjTnW",
        "outputId": "8849dc36-95f7-424b-c971-b959fc3fa1b7"
      },
      "execution_count": null,
      "outputs": [
        {
          "output_type": "stream",
          "name": "stdout",
          "text": [
            "=== IRIS SPECIES CLASSIFICATION USING DECISION TREE ===\n",
            "\n"
          ]
        }
      ]
    },
    {
      "cell_type": "code",
      "source": [
        "# Step 1: Load and Explore the Dataset\n",
        "print(\"Step 1: Loading and Exploring the Dataset\")\n",
        "print(\"-\" * 50)\n",
        "\n",
        "# Load the Iris dataset from sklearn\n",
        "iris = load_iris()\n",
        "X = iris.data  # Features: sepal length, sepal width, petal length, petal width\n",
        "y = iris.target  # Target: species (0: setosa, 1: versicolor, 2: virginica)\n",
        "\n",
        "# Create a DataFrame for better data manipulation\n",
        "df = pd.DataFrame(X, columns=iris.feature_names)\n",
        "df['species'] = y\n",
        "df['species_name'] = df['species'].map({0: 'setosa', 1: 'versicolor', 2: 'virginica'})\n",
        "\n",
        "print(f\"Dataset shape: {df.shape}\")\n",
        "print(f\"Feature names: {list(iris.feature_names)}\")\n",
        "print(f\"Target classes: {list(iris.target_names)}\")\n",
        "print(f\"\\nFirst 5 rows:\")\n",
        "print(df.head())"
      ],
      "metadata": {
        "colab": {
          "base_uri": "https://localhost:8080/"
        },
        "id": "3x_zvBZyjU3a",
        "outputId": "64023d41-b450-412c-a9d7-699a034771ba"
      },
      "execution_count": null,
      "outputs": [
        {
          "output_type": "stream",
          "name": "stdout",
          "text": [
            "Step 1: Loading and Exploring the Dataset\n",
            "--------------------------------------------------\n",
            "Dataset shape: (150, 6)\n",
            "Feature names: ['sepal length (cm)', 'sepal width (cm)', 'petal length (cm)', 'petal width (cm)']\n",
            "Target classes: [np.str_('setosa'), np.str_('versicolor'), np.str_('virginica')]\n",
            "\n",
            "First 5 rows:\n",
            "   sepal length (cm)  sepal width (cm)  petal length (cm)  petal width (cm)  \\\n",
            "0                5.1               3.5                1.4               0.2   \n",
            "1                4.9               3.0                1.4               0.2   \n",
            "2                4.7               3.2                1.3               0.2   \n",
            "3                4.6               3.1                1.5               0.2   \n",
            "4                5.0               3.6                1.4               0.2   \n",
            "\n",
            "   species species_name  \n",
            "0        0       setosa  \n",
            "1        0       setosa  \n",
            "2        0       setosa  \n",
            "3        0       setosa  \n",
            "4        0       setosa  \n"
          ]
        }
      ]
    },
    {
      "cell_type": "code",
      "source": [
        "# Step 2: Data Preprocessing\n",
        "print(\"\\n\\nStep 2: Data Preprocessing\")\n",
        "print(\"-\" * 50)\n",
        "\n",
        "# Check for missing values\n",
        "print(f\"Missing values per column:\")\n",
        "print(df.isnull().sum())\n",
        "\n",
        "# Check data types\n",
        "print(f\"\\nData types:\")\n",
        "print(df.dtypes)\n",
        "\n",
        "# Basic statistics\n",
        "print(f\"\\nBasic statistics:\")\n",
        "print(df.describe())\n",
        "\n",
        "# Check class distribution\n",
        "print(f\"\\nClass distribution:\")\n",
        "print(df['species_name'].value_counts())\n",
        "\n",
        "# The Iris dataset is clean and well-structured, so minimal preprocessing is needed\n",
        "# Features are already numerical, no missing values, and labels are already encoded\n",
        "\n",
        "# Step 3: Feature and Target Separation\n",
        "print(\"\\n\\nStep 3: Feature and Target Separation\")\n",
        "print(\"-\" * 50)\n",
        "\n",
        "# Separate features and target\n",
        "X = df[iris.feature_names].values  # Feature matrix\n",
        "y = df['species'].values  # Target vector\n",
        "\n",
        "print(f\"Feature matrix shape: {X.shape}\")\n",
        "print(f\"Target vector shape: {y.shape}\")\n",
        "\n",
        "# Step 4: Train-Test Split\n",
        "print(\"\\n\\nStep 4: Train-Test Split\")\n",
        "print(\"-\" * 50)\n",
        "\n",
        "# Split the data into training and testing sets (80-20 split)\n",
        "X_train, X_test, y_train, y_test = train_test_split(\n",
        "    X, y,\n",
        "    test_size=0.2,\n",
        "    random_state=42,\n",
        "    stratify=y  # Ensure balanced split across classes\n",
        ")\n",
        "\n",
        "print(f\"Training set size: {X_train.shape[0]} samples\")\n",
        "print(f\"Testing set size: {X_test.shape[0]} samples\")\n",
        "print(f\"Training class distribution: {np.bincount(y_train)}\")\n",
        "print(f\"Testing class distribution: {np.bincount(y_test)}\")\n"
      ],
      "metadata": {
        "colab": {
          "base_uri": "https://localhost:8080/"
        },
        "id": "NCfu_wzRlvIP",
        "outputId": "3caa1e12-48f2-453c-b024-42979f85f4d1"
      },
      "execution_count": null,
      "outputs": [
        {
          "output_type": "stream",
          "name": "stdout",
          "text": [
            "\n",
            "\n",
            "Step 2: Data Preprocessing\n",
            "--------------------------------------------------\n",
            "Missing values per column:\n",
            "sepal length (cm)    0\n",
            "sepal width (cm)     0\n",
            "petal length (cm)    0\n",
            "petal width (cm)     0\n",
            "species              0\n",
            "species_name         0\n",
            "dtype: int64\n",
            "\n",
            "Data types:\n",
            "sepal length (cm)    float64\n",
            "sepal width (cm)     float64\n",
            "petal length (cm)    float64\n",
            "petal width (cm)     float64\n",
            "species                int64\n",
            "species_name          object\n",
            "dtype: object\n",
            "\n",
            "Basic statistics:\n",
            "       sepal length (cm)  sepal width (cm)  petal length (cm)  \\\n",
            "count         150.000000        150.000000         150.000000   \n",
            "mean            5.843333          3.057333           3.758000   \n",
            "std             0.828066          0.435866           1.765298   \n",
            "min             4.300000          2.000000           1.000000   \n",
            "25%             5.100000          2.800000           1.600000   \n",
            "50%             5.800000          3.000000           4.350000   \n",
            "75%             6.400000          3.300000           5.100000   \n",
            "max             7.900000          4.400000           6.900000   \n",
            "\n",
            "       petal width (cm)     species  \n",
            "count        150.000000  150.000000  \n",
            "mean           1.199333    1.000000  \n",
            "std            0.762238    0.819232  \n",
            "min            0.100000    0.000000  \n",
            "25%            0.300000    0.000000  \n",
            "50%            1.300000    1.000000  \n",
            "75%            1.800000    2.000000  \n",
            "max            2.500000    2.000000  \n",
            "\n",
            "Class distribution:\n",
            "species_name\n",
            "setosa        50\n",
            "versicolor    50\n",
            "virginica     50\n",
            "Name: count, dtype: int64\n",
            "\n",
            "\n",
            "Step 3: Feature and Target Separation\n",
            "--------------------------------------------------\n",
            "Feature matrix shape: (150, 4)\n",
            "Target vector shape: (150,)\n",
            "\n",
            "\n",
            "Step 4: Train-Test Split\n",
            "--------------------------------------------------\n",
            "Training set size: 120 samples\n",
            "Testing set size: 30 samples\n",
            "Training class distribution: [40 40 40]\n",
            "Testing class distribution: [10 10 10]\n"
          ]
        }
      ]
    },
    {
      "cell_type": "code",
      "source": [
        "# Step 5: Model Training\n",
        "print(\"\\n\\nStep 5: Model Training\")\n",
        "print(\"-\" * 50)\n",
        "\n",
        "# Initialize the Decision Tree Classifier\n",
        "# Using some hyperparameters to prevent overfitting\n",
        "dt_classifier = DecisionTreeClassifier(\n",
        "    random_state=42,\n",
        "    max_depth=5,  # Limit tree depth to prevent overfitting\n",
        "    min_samples_split=5,  # Minimum samples required to split a node\n",
        "    min_samples_leaf=2,  # Minimum samples required at leaf node\n",
        "    criterion='gini'  # Splitting criterion\n",
        ")\n",
        "\n",
        "# Train the model\n",
        "dt_classifier.fit(X_train, y_train)\n",
        "\n",
        "print(\"Decision Tree Classifier trained successfully!\")\n",
        "print(f\"Tree depth: {dt_classifier.get_depth()}\")\n",
        "print(f\"Number of leaves: {dt_classifier.get_n_leaves()}\")"
      ],
      "metadata": {
        "colab": {
          "base_uri": "https://localhost:8080/"
        },
        "id": "UAn8XsfFmCrj",
        "outputId": "952d7efa-aaa4-40f0-bed6-a27553445576"
      },
      "execution_count": null,
      "outputs": [
        {
          "output_type": "stream",
          "name": "stdout",
          "text": [
            "\n",
            "\n",
            "Step 5: Model Training\n",
            "--------------------------------------------------\n",
            "Decision Tree Classifier trained successfully!\n",
            "Tree depth: 3\n",
            "Number of leaves: 5\n"
          ]
        }
      ]
    },
    {
      "cell_type": "code",
      "source": [
        "# Step 6: Model Evaluation\n",
        "print(\"\\n\\nStep 6: Model Evaluation\")\n",
        "print(\"-\" * 50)\n",
        "\n",
        "# Make predictions on test set\n",
        "y_pred = dt_classifier.predict(X_test)\n",
        "\n",
        "# Calculate evaluation metrics\n",
        "accuracy = accuracy_score(y_test, y_pred)\n",
        "precision = precision_score(y_test, y_pred, average='weighted')\n",
        "recall = recall_score(y_test, y_pred, average='weighted')\n",
        "\n",
        "print(f\"Model Performance Metrics:\")\n",
        "print(f\"Accuracy: {accuracy:.4f}\")\n",
        "print(f\"Precision (weighted): {precision:.4f}\")\n",
        "print(f\"Recall (weighted): {recall:.4f}\")\n",
        "\n",
        "# Detailed classification report\n",
        "print(f\"\\nDetailed Classification Report:\")\n",
        "print(classification_report(y_test, y_pred, target_names=iris.target_names))\n",
        "\n",
        "# Confusion Matrix\n",
        "print(f\"\\nConfusion Matrix:\")\n",
        "cm = confusion_matrix(y_test, y_pred)\n",
        "print(cm)\n",
        "\n",
        "# Step 7: Feature Importance Analysis\n",
        "print(\"\\n\\nStep 7: Feature Importance Analysis\")\n",
        "print(\"-\" * 50)\n",
        "\n",
        "# Get feature importances\n",
        "feature_importance = dt_classifier.feature_importances_\n",
        "feature_names = iris.feature_names\n",
        "\n",
        "# Create feature importance DataFrame\n",
        "importance_df = pd.DataFrame({\n",
        "    'feature': feature_names,\n",
        "    'importance': feature_importance\n",
        "}).sort_values('importance', ascending=False)\n",
        "\n",
        "print(\"Feature Importance Ranking:\")\n",
        "for idx, row in importance_df.iterrows():\n",
        "    print(f\"{row['feature']}: {row['importance']:.4f}\")\n",
        "\n",
        "# Step 8: Model Predictions on New Data\n",
        "print(\"\\n\\nStep 8: Sample Predictions\")\n",
        "print(\"-\" * 50)\n",
        "\n",
        "# Make predictions on a few test samples\n",
        "sample_indices = [0, 1, 2]  # First 3 test samples\n",
        "sample_predictions = dt_classifier.predict(X_test[sample_indices])\n",
        "sample_probabilities = dt_classifier.predict_proba(X_test[sample_indices])\n",
        "\n",
        "print(\"Sample Predictions:\")\n",
        "for i, idx in enumerate(sample_indices):\n",
        "    actual = iris.target_names[y_test[idx]]\n",
        "    predicted = iris.target_names[sample_predictions[i]]\n",
        "    confidence = np.max(sample_probabilities[i])\n",
        "\n",
        "    print(f\"Sample {i+1}:\")\n",
        "    print(f\"  Features: {X_test[idx]}\")\n",
        "    print(f\"  Actual: {actual}\")\n",
        "    print(f\"  Predicted: {predicted}\")\n",
        "    print(f\"  Confidence: {confidence:.4f}\")\n",
        "    print(f\"  Correct: {'Yes' if actual == predicted else 'No'}\")\n",
        "    print()\n",
        "\n",
        "# Step 9: Cross-Validation for Robust Evaluation\n",
        "print(\"\\n\\nStep 9: Cross-Validation\")\n",
        "print(\"-\" * 50)\n",
        "\n",
        "from sklearn.model_selection import cross_val_score\n",
        "\n",
        "# Perform 5-fold cross-validation\n",
        "cv_scores = cross_val_score(dt_classifier, X, y, cv=5, scoring='accuracy')\n",
        "\n",
        "print(f\"Cross-Validation Scores: {cv_scores}\")\n",
        "print(f\"Mean CV Accuracy: {cv_scores.mean():.4f} (+/- {cv_scores.std() * 2:.4f})\")\n"
      ],
      "metadata": {
        "colab": {
          "base_uri": "https://localhost:8080/"
        },
        "id": "DGT6YhqAmkX3",
        "outputId": "4603c684-264e-485e-9372-1b60896bc335"
      },
      "execution_count": null,
      "outputs": [
        {
          "output_type": "stream",
          "name": "stdout",
          "text": [
            "\n",
            "\n",
            "Step 6: Model Evaluation\n",
            "--------------------------------------------------\n",
            "Model Performance Metrics:\n",
            "Accuracy: 0.9667\n",
            "Precision (weighted): 0.9697\n",
            "Recall (weighted): 0.9667\n",
            "\n",
            "Detailed Classification Report:\n",
            "              precision    recall  f1-score   support\n",
            "\n",
            "      setosa       1.00      1.00      1.00        10\n",
            "  versicolor       1.00      0.90      0.95        10\n",
            "   virginica       0.91      1.00      0.95        10\n",
            "\n",
            "    accuracy                           0.97        30\n",
            "   macro avg       0.97      0.97      0.97        30\n",
            "weighted avg       0.97      0.97      0.97        30\n",
            "\n",
            "\n",
            "Confusion Matrix:\n",
            "[[10  0  0]\n",
            " [ 0  9  1]\n",
            " [ 0  0 10]]\n",
            "\n",
            "\n",
            "Step 7: Feature Importance Analysis\n",
            "--------------------------------------------------\n",
            "Feature Importance Ranking:\n",
            "petal length (cm): 0.5791\n",
            "petal width (cm): 0.4209\n",
            "sepal width (cm): 0.0000\n",
            "sepal length (cm): 0.0000\n",
            "\n",
            "\n",
            "Step 8: Sample Predictions\n",
            "--------------------------------------------------\n",
            "Sample Predictions:\n",
            "Sample 1:\n",
            "  Features: [4.4 3.  1.3 0.2]\n",
            "  Actual: setosa\n",
            "  Predicted: setosa\n",
            "  Confidence: 1.0000\n",
            "  Correct: Yes\n",
            "\n",
            "Sample 2:\n",
            "  Features: [6.1 3.  4.9 1.8]\n",
            "  Actual: virginica\n",
            "  Predicted: virginica\n",
            "  Confidence: 1.0000\n",
            "  Correct: Yes\n",
            "\n",
            "Sample 3:\n",
            "  Features: [4.9 2.4 3.3 1. ]\n",
            "  Actual: versicolor\n",
            "  Predicted: versicolor\n",
            "  Confidence: 1.0000\n",
            "  Correct: Yes\n",
            "\n",
            "\n",
            "\n",
            "Step 9: Cross-Validation\n",
            "--------------------------------------------------\n",
            "Cross-Validation Scores: [0.96666667 0.96666667 0.93333333 0.9        1.        ]\n",
            "Mean CV Accuracy: 0.9533 (+/- 0.0680)\n"
          ]
        }
      ]
    },
    {
      "cell_type": "code",
      "source": [
        "# Step 10: Visualization\n",
        "print(\"\\n\\nStep 10: Creating Visualizations\")\n",
        "print(\"-\" * 50)\n",
        "\n",
        "try:\n",
        "    # Create visualizations\n",
        "    fig, axes = plt.subplots(2, 2, figsize=(15, 12))\n",
        "\n",
        "    # 1. Feature Importance Plot\n",
        "    axes[0, 0].barh(importance_df['feature'], importance_df['importance'])\n",
        "    axes[0, 0].set_title('Feature Importance')\n",
        "    axes[0, 0].set_xlabel('Importance')\n",
        "\n",
        "    # 2. Confusion Matrix Heatmap\n",
        "    sns.heatmap(cm, annot=True, fmt='d', cmap='Blues',\n",
        "                xticklabels=iris.target_names,\n",
        "                yticklabels=iris.target_names, ax=axes[0, 1])\n",
        "    axes[0, 1].set_title('Confusion Matrix')\n",
        "    axes[0, 1].set_xlabel('Predicted')\n",
        "    axes[0, 1].set_ylabel('Actual')\n",
        "\n",
        "    # 3. Class Distribution\n",
        "    axes[1, 0].bar(iris.target_names, np.bincount(y))\n",
        "    axes[1, 0].set_title('Class Distribution')\n",
        "    axes[1, 0].set_ylabel('Count')\n",
        "\n",
        "    # 4. Cross-Validation Scores\n",
        "    axes[1, 1].plot(range(1, 6), cv_scores, 'bo-')\n",
        "    axes[1, 1].axhline(y=cv_scores.mean(), color='r', linestyle='--',\n",
        "                       label=f'Mean: {cv_scores.mean():.3f}')\n",
        "    axes[1, 1].set_title('Cross-Validation Scores')\n",
        "    axes[1, 1].set_xlabel('Fold')\n",
        "    axes[1, 1].set_ylabel('Accuracy')\n",
        "    axes[1, 1].legend()\n",
        "    axes[1, 1].set_ylim(0, 1)\n",
        "\n",
        "    plt.tight_layout()\n",
        "    plt.show()\n",
        "\n",
        "    print(\"Visualizations created successfully!\")\n",
        "\n",
        "except ImportError:\n",
        "    print(\"Matplotlib/Seaborn not available. Skipping visualizations.\")\n"
      ],
      "metadata": {
        "colab": {
          "base_uri": "https://localhost:8080/",
          "height": 1000
        },
        "id": "CFiKNw9ym5WY",
        "outputId": "837e262b-6b8b-4059-ba79-f163352b3cf5"
      },
      "execution_count": null,
      "outputs": [
        {
          "output_type": "stream",
          "name": "stdout",
          "text": [
            "\n",
            "\n",
            "Step 10: Creating Visualizations\n",
            "--------------------------------------------------\n"
          ]
        },
        {
          "output_type": "display_data",
          "data": {
            "text/plain": [
              "<Figure size 1500x1200 with 5 Axes>"
            ],
            "image/png": "[encoded data removed]"
          },
          "metadata": {}
        },
        {
          "output_type": "stream",
          "name": "stdout",
          "text": [
            "Visualizations created successfully!\n"
          ]
        }
      ]
    },
    {
      "cell_type": "code",
      "source": [
        "# Summary\n",
        "print(\"\\n\\n\" + \"=\"*60)\n",
        "print(\"SUMMARY\")\n",
        "print(\"=\"*60)\n",
        "print(f\"✓ Dataset: Iris Species ({X.shape[0]} samples, {X.shape[1]} features)\")\n",
        "print(f\"✓ Model: Decision Tree Classifier\")\n",
        "print(f\"✓ Accuracy: {accuracy:.4f}\")\n",
        "print(f\"✓ Precision: {precision:.4f}\")\n",
        "print(f\"✓ Recall: {recall:.4f}\")\n",
        "print(f\"✓ Cross-Validation Mean Accuracy: {cv_scores.mean():.4f}\")\n",
        "print(f\"✓ Most Important Feature: {importance_df.iloc[0]['feature']}\")\n",
        "print(\"\\nThe model successfully classifies iris species with high accuracy!\")\n",
        "print(\"=\"*60)"
      ],
      "metadata": {
        "colab": {
          "base_uri": "https://localhost:8080/"
        },
        "id": "0v14wCrnnJRc",
        "outputId": "18996c42-a005-4d9d-f2a3-cb83539b8c05"
      },
      "execution_count": null,
      "outputs": [
        {
          "output_type": "stream",
          "name": "stdout",
          "text": [
            "\n",
            "\n",
            "============================================================\n",
            "SUMMARY\n",
            "============================================================\n",
            "✓ Dataset: Iris Species (150 samples, 4 features)\n",
            "✓ Model: Decision Tree Classifier\n",
            "✓ Accuracy: 0.9667\n",
            "✓ Precision: 0.9697\n",
            "✓ Recall: 0.9667\n",
            "✓ Cross-Validation Mean Accuracy: 0.9533\n",
            "✓ Most Important Feature: petal length (cm)\n",
            "\n",
            "The model successfully classifies iris species with high accuracy!\n",
            "============================================================\n"
          ]
        }
      ]
    }
  ]
}